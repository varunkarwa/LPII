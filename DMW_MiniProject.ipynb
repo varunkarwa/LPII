{
  "nbformat": 4,
  "nbformat_minor": 0,
  "metadata": {
    "colab": {
      "name": "DMW MiniProject.ipynb",
      "provenance": []
    },
    "kernelspec": {
      "name": "python3",
      "display_name": "Python 3"
    },
    "language_info": {
      "name": "python"
    }
  },
  "cells": [
    {
      "cell_type": "code",
      "metadata": {
        "id": "GMx0i5ZC2cJ2"
      },
      "source": [
        "#Importing Libraries\n",
        "import pandas as pd\n",
        "import numpy as np\n",
        "from sklearn.model_selection import train_test_split,cross_val_score\n",
        "from sklearn.pipeline import Pipeline\n",
        "from sklearn.feature_extraction.text import CountVectorizer\n",
        "from sklearn.feature_extraction.text import TfidfTransformer\n",
        "from sklearn.metrics import accuracy_score,classification_report,confusion_matrix,plot_confusion_matrix\n",
        "import matplotlib.pyplot as plt\n",
        "from sklearn.linear_model import LogisticRegression\n",
        "from sklearn.svm import LinearSVC\n",
        "from sklearn.naive_bayes import MultinomialNB"
      ],
      "execution_count": 16,
      "outputs": []
    },
    {
      "cell_type": "code",
      "metadata": {
        "colab": {
          "base_uri": "https://localhost:8080/",
          "height": 203
        },
        "id": "k8LyBrtp7jdM",
        "outputId": "690b791e-8f12-419d-85df-84ec893ea29c"
      },
      "source": [
        "#Reading CSV files\n",
        "true = pd.read_csv(\"True.csv\")\n",
        "fake = pd.read_csv(\"Fake.csv\")\n",
        "true.head()\n",
        "fake.head()"
      ],
      "execution_count": 9,
      "outputs": [
        {
          "output_type": "execute_result",
          "data": {
            "text/html": [
              "<div>\n",
              "<style scoped>\n",
              "    .dataframe tbody tr th:only-of-type {\n",
              "        vertical-align: middle;\n",
              "    }\n",
              "\n",
              "    .dataframe tbody tr th {\n",
              "        vertical-align: top;\n",
              "    }\n",
              "\n",
              "    .dataframe thead th {\n",
              "        text-align: right;\n",
              "    }\n",
              "</style>\n",
              "<table border=\"1\" class=\"dataframe\">\n",
              "  <thead>\n",
              "    <tr style=\"text-align: right;\">\n",
              "      <th></th>\n",
              "      <th>title</th>\n",
              "      <th>text</th>\n",
              "      <th>subject</th>\n",
              "      <th>date</th>\n",
              "    </tr>\n",
              "  </thead>\n",
              "  <tbody>\n",
              "    <tr>\n",
              "      <th>0</th>\n",
              "      <td>Donald Trump Sends Out Embarrassing New Year’...</td>\n",
              "      <td>Donald Trump just couldn t wish all Americans ...</td>\n",
              "      <td>News</td>\n",
              "      <td>December 31, 2017</td>\n",
              "    </tr>\n",
              "    <tr>\n",
              "      <th>1</th>\n",
              "      <td>Drunk Bragging Trump Staffer Started Russian ...</td>\n",
              "      <td>House Intelligence Committee Chairman Devin Nu...</td>\n",
              "      <td>News</td>\n",
              "      <td>December 31, 2017</td>\n",
              "    </tr>\n",
              "    <tr>\n",
              "      <th>2</th>\n",
              "      <td>Sheriff David Clarke Becomes An Internet Joke...</td>\n",
              "      <td>On Friday, it was revealed that former Milwauk...</td>\n",
              "      <td>News</td>\n",
              "      <td>December 30, 2017</td>\n",
              "    </tr>\n",
              "    <tr>\n",
              "      <th>3</th>\n",
              "      <td>Trump Is So Obsessed He Even Has Obama’s Name...</td>\n",
              "      <td>On Christmas day, Donald Trump announced that ...</td>\n",
              "      <td>News</td>\n",
              "      <td>December 29, 2017</td>\n",
              "    </tr>\n",
              "    <tr>\n",
              "      <th>4</th>\n",
              "      <td>Pope Francis Just Called Out Donald Trump Dur...</td>\n",
              "      <td>Pope Francis used his annual Christmas Day mes...</td>\n",
              "      <td>News</td>\n",
              "      <td>December 25, 2017</td>\n",
              "    </tr>\n",
              "  </tbody>\n",
              "</table>\n",
              "</div>"
            ],
            "text/plain": [
              "                                               title  ...               date\n",
              "0   Donald Trump Sends Out Embarrassing New Year’...  ...  December 31, 2017\n",
              "1   Drunk Bragging Trump Staffer Started Russian ...  ...  December 31, 2017\n",
              "2   Sheriff David Clarke Becomes An Internet Joke...  ...  December 30, 2017\n",
              "3   Trump Is So Obsessed He Even Has Obama’s Name...  ...  December 29, 2017\n",
              "4   Pope Francis Just Called Out Donald Trump Dur...  ...  December 25, 2017\n",
              "\n",
              "[5 rows x 4 columns]"
            ]
          },
          "metadata": {},
          "execution_count": 9
        }
      ]
    },
    {
      "cell_type": "code",
      "metadata": {
        "colab": {
          "base_uri": "https://localhost:8080/",
          "height": 203
        },
        "id": "wnHbbaGr8KIE",
        "outputId": "9fb47d83-b8c9-4eef-9b46-f1d5ce895759"
      },
      "source": [
        "#Specifying fake and real\n",
        "fake['target'] = 'fake'\n",
        "true['target'] = 'true'\n",
        "#News dataset\n",
        "news = pd.concat([fake, true]).reset_index(drop = True)\n",
        "news.head()"
      ],
      "execution_count": 10,
      "outputs": [
        {
          "output_type": "execute_result",
          "data": {
            "text/html": [
              "<div>\n",
              "<style scoped>\n",
              "    .dataframe tbody tr th:only-of-type {\n",
              "        vertical-align: middle;\n",
              "    }\n",
              "\n",
              "    .dataframe tbody tr th {\n",
              "        vertical-align: top;\n",
              "    }\n",
              "\n",
              "    .dataframe thead th {\n",
              "        text-align: right;\n",
              "    }\n",
              "</style>\n",
              "<table border=\"1\" class=\"dataframe\">\n",
              "  <thead>\n",
              "    <tr style=\"text-align: right;\">\n",
              "      <th></th>\n",
              "      <th>title</th>\n",
              "      <th>text</th>\n",
              "      <th>subject</th>\n",
              "      <th>date</th>\n",
              "      <th>target</th>\n",
              "    </tr>\n",
              "  </thead>\n",
              "  <tbody>\n",
              "    <tr>\n",
              "      <th>0</th>\n",
              "      <td>Donald Trump Sends Out Embarrassing New Year’...</td>\n",
              "      <td>Donald Trump just couldn t wish all Americans ...</td>\n",
              "      <td>News</td>\n",
              "      <td>December 31, 2017</td>\n",
              "      <td>fake</td>\n",
              "    </tr>\n",
              "    <tr>\n",
              "      <th>1</th>\n",
              "      <td>Drunk Bragging Trump Staffer Started Russian ...</td>\n",
              "      <td>House Intelligence Committee Chairman Devin Nu...</td>\n",
              "      <td>News</td>\n",
              "      <td>December 31, 2017</td>\n",
              "      <td>fake</td>\n",
              "    </tr>\n",
              "    <tr>\n",
              "      <th>2</th>\n",
              "      <td>Sheriff David Clarke Becomes An Internet Joke...</td>\n",
              "      <td>On Friday, it was revealed that former Milwauk...</td>\n",
              "      <td>News</td>\n",
              "      <td>December 30, 2017</td>\n",
              "      <td>fake</td>\n",
              "    </tr>\n",
              "    <tr>\n",
              "      <th>3</th>\n",
              "      <td>Trump Is So Obsessed He Even Has Obama’s Name...</td>\n",
              "      <td>On Christmas day, Donald Trump announced that ...</td>\n",
              "      <td>News</td>\n",
              "      <td>December 29, 2017</td>\n",
              "      <td>fake</td>\n",
              "    </tr>\n",
              "    <tr>\n",
              "      <th>4</th>\n",
              "      <td>Pope Francis Just Called Out Donald Trump Dur...</td>\n",
              "      <td>Pope Francis used his annual Christmas Day mes...</td>\n",
              "      <td>News</td>\n",
              "      <td>December 25, 2017</td>\n",
              "      <td>fake</td>\n",
              "    </tr>\n",
              "  </tbody>\n",
              "</table>\n",
              "</div>"
            ],
            "text/plain": [
              "                                               title  ... target\n",
              "0   Donald Trump Sends Out Embarrassing New Year’...  ...   fake\n",
              "1   Drunk Bragging Trump Staffer Started Russian ...  ...   fake\n",
              "2   Sheriff David Clarke Becomes An Internet Joke...  ...   fake\n",
              "3   Trump Is So Obsessed He Even Has Obama’s Name...  ...   fake\n",
              "4   Pope Francis Just Called Out Donald Trump Dur...  ...   fake\n",
              "\n",
              "[5 rows x 5 columns]"
            ]
          },
          "metadata": {},
          "execution_count": 10
        }
      ]
    },
    {
      "cell_type": "code",
      "metadata": {
        "id": "0Vmx4AVH8gh8"
      },
      "source": [
        "#Train-test split\n",
        "x_train,x_test,y_train,y_test = train_test_split(news['text'], news.target, test_size=0.2, random_state=1)"
      ],
      "execution_count": 11,
      "outputs": []
    },
    {
      "cell_type": "code",
      "metadata": {
        "colab": {
          "base_uri": "https://localhost:8080/",
          "height": 582
        },
        "id": "EdQ64LG68wpb",
        "outputId": "3fb32081-a617-4b54-efe0-04dae3a48b99"
      },
      "source": [
        "\n",
        "#Logistic regression classification\n",
        "pipe1 = Pipeline([('vect', CountVectorizer()), ('tfidf', TfidfTransformer()), ('model', LogisticRegression())])\n",
        "\n",
        "model_lr = pipe1.fit(x_train, y_train)\n",
        "lr_pred = model_lr.predict(x_test)\n",
        "\n",
        "print(\"Accuracy of Logistic Regression Classifier: {}%\".format(round(accuracy_score(y_test, lr_pred)*100,2)))\n",
        "print(\"\\nConfusion Matrix of Logistic Regression Classifier:\\n\")\n",
        "print(confusion_matrix(y_test,lr_pred))\n",
        "plot_confusion_matrix(model_lr, x_test, y_test)  \n",
        "plt.show()\n",
        "print(\"\\nCLassification Report of Logistic Regression Classifier:\\n\")\n",
        "print(classification_report(y_test, lr_pred))\n"
      ],
      "execution_count": 13,
      "outputs": [
        {
          "output_type": "stream",
          "name": "stdout",
          "text": [
            "Accuracy of Logistic Regression Classifier: 98.73%\n",
            "\n",
            "Confusion Matrix of Logistic Regression Classifier:\n",
            "\n",
            "[[4617   65]\n",
            " [  49 4249]]\n"
          ]
        },
        {
          "output_type": "display_data",
          "data": {
            "image/png": "[encoded data removed]",
            "text/plain": [
              "<Figure size 432x288 with 2 Axes>"
            ]
          },
          "metadata": {
            "needs_background": "light"
          }
        },
        {
          "output_type": "stream",
          "name": "stdout",
          "text": [
            "\n",
            "CLassification Report of Logistic Regression Classifier:\n",
            "\n",
            "              precision    recall  f1-score   support\n",
            "\n",
            "        fake       0.99      0.99      0.99      4682\n",
            "        true       0.98      0.99      0.99      4298\n",
            "\n",
            "    accuracy                           0.99      8980\n",
            "   macro avg       0.99      0.99      0.99      8980\n",
            "weighted avg       0.99      0.99      0.99      8980\n",
            "\n"
          ]
        }
      ]
    },
    {
      "cell_type": "code",
      "metadata": {
        "colab": {
          "base_uri": "https://localhost:8080/"
        },
        "id": "PGrgh5bo9FQ1",
        "outputId": "f6ef9a58-5250-4333-d272-9b2559f140f3"
      },
      "source": [
        "cross_val_score(model_lr, x_test, y_test, cv=10, scoring = 'accuracy').mean()\n"
      ],
      "execution_count": 17,
      "outputs": [
        {
          "output_type": "execute_result",
          "data": {
            "text/plain": [
              "0.9763919821826281"
            ]
          },
          "metadata": {},
          "execution_count": 17
        }
      ]
    },
    {
      "cell_type": "code",
      "metadata": {
        "colab": {
          "base_uri": "https://localhost:8080/",
          "height": 582
        },
        "id": "KjK3qjnF_TLC",
        "outputId": "94079eda-089b-4566-c6df-ec2f1407d526"
      },
      "source": [
        "#Support Vector classification\n",
        "pipe2 = Pipeline([('vect', CountVectorizer()), ('tfidf', TfidfTransformer()), ('model', LinearSVC())])\n",
        "\n",
        "model_svc = pipe2.fit(x_train, y_train)\n",
        "svc_pred = model_svc.predict(x_test)\n",
        "\n",
        "print(\"Accuracy of SVM Classifier: {}%\".format(round(accuracy_score(y_test, svc_pred)*100,2)))\n",
        "print(\"\\nConfusion Matrix of SVM Classifier:\\n\")\n",
        "print(confusion_matrix(y_test, svc_pred))\n",
        "plot_confusion_matrix(model_svc, x_test, y_test)  \n",
        "plt.show()\n",
        "print(\"\\nClassification Report of SVM Classifier:\\n\")\n",
        "print(classification_report(y_test, svc_pred))"
      ],
      "execution_count": 18,
      "outputs": [
        {
          "output_type": "stream",
          "name": "stdout",
          "text": [
            "Accuracy of SVM Classifier: 99.39%\n",
            "\n",
            "Confusion Matrix of SVM Classifier:\n",
            "\n",
            "[[4644   38]\n",
            " [  17 4281]]\n"
          ]
        },
        {
          "output_type": "display_data",
          "data": {
            "image/png": "[encoded data removed]",
            "text/plain": [
              "<Figure size 432x288 with 2 Axes>"
            ]
          },
          "metadata": {
            "needs_background": "light"
          }
        },
        {
          "output_type": "stream",
          "name": "stdout",
          "text": [
            "\n",
            "Classification Report of SVM Classifier:\n",
            "\n",
            "              precision    recall  f1-score   support\n",
            "\n",
            "        fake       1.00      0.99      0.99      4682\n",
            "        true       0.99      1.00      0.99      4298\n",
            "\n",
            "    accuracy                           0.99      8980\n",
            "   macro avg       0.99      0.99      0.99      8980\n",
            "weighted avg       0.99      0.99      0.99      8980\n",
            "\n"
          ]
        }
      ]
    },
    {
      "cell_type": "code",
      "metadata": {
        "colab": {
          "base_uri": "https://localhost:8080/"
        },
        "id": "wHkrMEMI_71b",
        "outputId": "86cb9c07-372b-4a64-cc35-d58890f81af5"
      },
      "source": [
        "cross_val_score(model_svc, x_test, y_test, cv=10, scoring = 'accuracy').mean()"
      ],
      "execution_count": 19,
      "outputs": [
        {
          "output_type": "execute_result",
          "data": {
            "text/plain": [
              "0.9868596881959911"
            ]
          },
          "metadata": {},
          "execution_count": 19
        }
      ]
    },
    {
      "cell_type": "code",
      "metadata": {
        "colab": {
          "base_uri": "https://localhost:8080/",
          "height": 582
        },
        "id": "OM1QdAoIALYy",
        "outputId": "55ec6a99-8b84-4371-984a-7d780cbcf276"
      },
      "source": [
        "#Naive-Bayes classification\n",
        "pipe3 = Pipeline([('vect', CountVectorizer()), ('tfidf', TfidfTransformer()), ('model', MultinomialNB())])\n",
        "\n",
        "model_nb = pipe3.fit(x_train, y_train)\n",
        "nb_pred = model_nb.predict(x_test)\n",
        "\n",
        "print(\"Accuracy of Naive Bayes Classifier: {}%\".format(round(accuracy_score(y_test, nb_pred)*100,2)))\n",
        "print(\"\\nConfusion Matrix of Naive Bayes Classifier:\\n\")\n",
        "print(confusion_matrix(y_test, nb_pred))\n",
        "plot_confusion_matrix(model_nb, x_test, y_test)  \n",
        "plt.show()\n",
        "print(\"\\nClassification Report of Naive Bayes Classifier:\\n\")\n",
        "print(classification_report(y_test, nb_pred))\n"
      ],
      "execution_count": 20,
      "outputs": [
        {
          "output_type": "stream",
          "name": "stdout",
          "text": [
            "Accuracy of Naive Bayes Classifier: 94.08%\n",
            "\n",
            "Confusion Matrix of Naive Bayes Classifier:\n",
            "\n",
            "[[4450  232]\n",
            " [ 300 3998]]\n"
          ]
        },
        {
          "output_type": "display_data",
          "data": {
            "image/png": "[encoded data removed]",
            "text/plain": [
              "<Figure size 432x288 with 2 Axes>"
            ]
          },
          "metadata": {
            "needs_background": "light"
          }
        },
        {
          "output_type": "stream",
          "name": "stdout",
          "text": [
            "\n",
            "Classification Report of Naive Bayes Classifier:\n",
            "\n",
            "              precision    recall  f1-score   support\n",
            "\n",
            "        fake       0.94      0.95      0.94      4682\n",
            "        true       0.95      0.93      0.94      4298\n",
            "\n",
            "    accuracy                           0.94      8980\n",
            "   macro avg       0.94      0.94      0.94      8980\n",
            "weighted avg       0.94      0.94      0.94      8980\n",
            "\n"
          ]
        }
      ]
    },
    {
      "cell_type": "code",
      "metadata": {
        "colab": {
          "base_uri": "https://localhost:8080/"
        },
        "id": "HlnkZUbUAbWg",
        "outputId": "6ed28b25-39e4-48f3-d2f0-12df6f168c3d"
      },
      "source": [
        "cross_val_score(model_nb, x_test, y_test, cv=10, scoring = 'accuracy').mean()"
      ],
      "execution_count": 21,
      "outputs": [
        {
          "output_type": "execute_result",
          "data": {
            "text/plain": [
              "0.9369710467706012"
            ]
          },
          "metadata": {},
          "execution_count": 21
        }
      ]
    }
  ]
}